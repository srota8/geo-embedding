{
 "cells": [
  {
   "cell_type": "raw",
   "id": "d843f128-e35e-423b-879e-73a7efaf465b",
   "metadata": {},
   "source": [
    "Reconstruct the country's geography by deriving city coordinates from distance data"
   ]
  },
  {
   "cell_type": "code",
   "execution_count": null,
   "id": "71867eec-c6ac-41f1-899b-5d49272700a6",
   "metadata": {
    "tags": []
   },
   "outputs": [],
   "source": [
    "from math import radians, sin, cos, sqrt, asin\n",
    "import json\n",
    "import math\n",
    "import numpy as np\n",
    "import matplotlib.pyplot as plt\n",
    "import plotly.graph_objects as go"
   ]
  },
  {
   "cell_type": "code",
   "execution_count": null,
   "id": "b7fa684b-7306-45f7-a7e5-65ac19032251",
   "metadata": {
    "tags": []
   },
   "outputs": [],
   "source": [
    "from torch.utils.data import DataLoader, Dataset\n",
    "import torch\n",
    "import torch.nn as nn\n",
    "import torch.optim as optim"
   ]
  },
  {
   "cell_type": "markdown",
   "id": "9b6e06f0-a85a-4981-b79e-171b2dbfbef3",
   "metadata": {},
   "source": [
    "# Create Input Dataset"
   ]
  },
  {
   "cell_type": "markdown",
   "id": "9346676b-0d52-4e96-ab2d-496b14492491",
   "metadata": {
    "tags": []
   },
   "source": [
    "Input Dataset\n",
    "\n",
    "| City 1      | City 2      | Distance (km) |\n",
    "|-------------|-------------|---------------|\n",
    "| Rome        | Milan       |     485       |\n",
    "| Naples      | Florence    |     410       |\n",
    "| Venice      | Turin       |     360       |\n",
    "| Bologna     | Genoa       |     210       |\n",
    "| Palermo     | Catania     |     190       |"
   ]
  },
  {
   "cell_type": "code",
   "execution_count": null,
   "id": "31826da2-8f7a-4dbe-890d-cbb1a07719c0",
   "metadata": {
    "tags": []
   },
   "outputs": [],
   "source": [
    "with open(\"cities.json\", \"r\") as f:\n",
    "    cities = json.load(f)"
   ]
  },
  {
   "cell_type": "code",
   "execution_count": null,
   "id": "96110705-bc71-4e2d-b69f-854ae6959f5a",
   "metadata": {
    "tags": []
   },
   "outputs": [],
   "source": [
    "len(cities)"
   ]
  },
  {
   "cell_type": "code",
   "execution_count": null,
   "id": "33d04f88-851c-4089-960c-09c3605554ca",
   "metadata": {
    "tags": []
   },
   "outputs": [],
   "source": [
    "def haversine(coords1, coords2):\n",
    "\n",
    "    R = 6371.0\n",
    "\n",
    "    lat1, lon1 = coords1\n",
    "    lat2, lon2 = coords2\n",
    "    \n",
    "    lat1, lon1 = radians(lat1), radians(lon1)\n",
    "    lat2, lon2 = radians(lat2), radians(lon2)\n",
    "    \n",
    "    dlat = lat2 - lat1\n",
    "    dlon = lon2 - lon1\n",
    "    \n",
    "    a = sin(dlat/2)**2 + cos(lat1) * cos(lat2) * sin(dlon/2)**2\n",
    "    c = 2 * asin(sqrt(a))\n",
    "    \n",
    "    distance = R * c\n",
    "    \n",
    "    return round(distance, 1)"
   ]
  },
  {
   "cell_type": "code",
   "execution_count": null,
   "id": "a85abaaf-210a-42e2-8291-116cadf33a7d",
   "metadata": {
    "tags": []
   },
   "outputs": [],
   "source": [
    "distances = {}\n",
    "\n",
    "for city1, coord1 in cities.items():\n",
    "    for city2, coord2 in cities.items():\n",
    "        \n",
    "        if city1 == city2:\n",
    "            continue\n",
    "\n",
    "        distances[city1, city2] = haversine(coord1, coord2)"
   ]
  },
  {
   "cell_type": "code",
   "execution_count": null,
   "id": "0e643452-a62a-49f0-a948-54fdf8af6429",
   "metadata": {
    "tags": []
   },
   "outputs": [],
   "source": [
    "distances[('Milano', 'Roma')], distances[('Roma', 'Milano')]"
   ]
  },
  {
   "cell_type": "code",
   "execution_count": null,
   "id": "183bbca2-6d42-433b-ba41-88e5eca9e8bf",
   "metadata": {
    "tags": []
   },
   "outputs": [],
   "source": [
    "len(distances.keys()), len(cities.keys())**2 - len(cities.keys())"
   ]
  },
  {
   "cell_type": "markdown",
   "id": "a735a5a4-7149-4084-88de-34b5211b5f47",
   "metadata": {},
   "source": [
    "# Standardize distances"
   ]
  },
  {
   "cell_type": "code",
   "execution_count": null,
   "id": "83963452-5a0b-4909-9242-bcfb16b4cbe5",
   "metadata": {
    "tags": []
   },
   "outputs": [],
   "source": [
    "plt.hist(distances.values(), bins=100)\n",
    "plt.xlabel('Distance (km)')\n",
    "plt.show()"
   ]
  },
  {
   "cell_type": "code",
   "execution_count": null,
   "id": "7f35587a-ed4e-455e-8fd3-2928a8e691bd",
   "metadata": {
    "tags": []
   },
   "outputs": [],
   "source": [
    "def standardize(x, minimum, maximum):\n",
    "    return (x - minimum) / (maximum - minimum)\n",
    "    \n",
    "def inverse(x, minimum, maximum):\n",
    "    return x * (maximum - minimum) + minimum "
   ]
  },
  {
   "cell_type": "code",
   "execution_count": null,
   "id": "185432eb-7161-4240-9c56-ff122c09f2df",
   "metadata": {
    "tags": []
   },
   "outputs": [],
   "source": [
    "minimum = float(np.min(list(distances.values())))\n",
    "maximum = float(np.max(list(distances.values())))\n",
    "\n",
    "normalized = {\n",
    "    pair: standardize(distance, minimum=minimum, maximum=maximum)\n",
    "    for pair, distance in distances.items()\n",
    "}"
   ]
  },
  {
   "cell_type": "code",
   "execution_count": null,
   "id": "4f21f4b8-d940-4813-a23e-1c8f0891f620",
   "metadata": {
    "tags": []
   },
   "outputs": [],
   "source": [
    "plt.hist(normalized.values(), bins=100)\n",
    "plt.xlabel('Normalized Distance')\n",
    "plt.show()"
   ]
  },
  {
   "cell_type": "code",
   "execution_count": null,
   "id": "e42c8a02-08ba-49fd-b08d-3a3e78834664",
   "metadata": {
    "tags": []
   },
   "outputs": [],
   "source": [
    "# city tokenizer\n",
    "\n",
    "city_to_idx = {city: idx \n",
    "               for idx, city \n",
    "               in enumerate(list(cities.keys()))}\n",
    "\n",
    "num_cities = len(cities)"
   ]
  },
  {
   "cell_type": "code",
   "execution_count": null,
   "id": "47463d73-6071-49d1-95e5-cbadd663e2d0",
   "metadata": {
    "tags": []
   },
   "outputs": [],
   "source": [
    "len(city_to_idx), num_cities"
   ]
  },
  {
   "cell_type": "code",
   "execution_count": null,
   "id": "a6647703-8860-426b-8467-44d10bb23454",
   "metadata": {
    "tags": []
   },
   "outputs": [],
   "source": [
    "class DistanceDataset(Dataset):\n",
    "    def __init__(self, distances, city_to_idx):\n",
    "        self.data = [(city_to_idx[city1], city_to_idx[city2], distance) \n",
    "                     for (city1, city2), distance \n",
    "                     in distances.items()]\n",
    "\n",
    "    def __len__(self):\n",
    "        return len(self.data)\n",
    "\n",
    "    def __getitem__(self, idx):\n",
    "        city1, city2, distance = self.data[idx]\n",
    "        return (\n",
    "            torch.tensor(city1, dtype=torch.long),\n",
    "            torch.tensor(city2, dtype=torch.long),\n",
    "            torch.tensor(distance, dtype=torch.float32),\n",
    "        )\n",
    "\n",
    "dataset = DistanceDataset(normalized, city_to_idx)\n",
    "dataloader = DataLoader(dataset, batch_size=106, shuffle=False)"
   ]
  },
  {
   "cell_type": "code",
   "execution_count": null,
   "id": "2ccbb95b-e1d5-44f1-8c71-d2654d2ccdf3",
   "metadata": {
    "tags": []
   },
   "outputs": [],
   "source": [
    "for batch in dataloader:\n",
    "    break"
   ]
  },
  {
   "cell_type": "code",
   "execution_count": null,
   "id": "6a272d43-6a02-43f2-9c92-9fd28b54b5a9",
   "metadata": {
    "tags": []
   },
   "outputs": [],
   "source": [
    "batch"
   ]
  },
  {
   "cell_type": "markdown",
   "id": "c7f34315-2537-43ea-98db-510368db1a6b",
   "metadata": {},
   "source": [
    "# Model"
   ]
  },
  {
   "cell_type": "code",
   "execution_count": null,
   "id": "95d0a128-c09e-4337-a208-8701bd7cc0d1",
   "metadata": {
    "tags": []
   },
   "outputs": [],
   "source": [
    "device = 'cuda'"
   ]
  },
  {
   "cell_type": "code",
   "execution_count": null,
   "id": "9cacd87a-be57-4c21-a990-ad64b42b5516",
   "metadata": {
    "tags": []
   },
   "outputs": [],
   "source": [
    "class GeoEmbedding(nn.Module):\n",
    "    def __init__(self, num_cities, dim=2):\n",
    "        super(GeoEmbedding, self).__init__()\n",
    "        self.coords = nn.Embedding(num_cities, dim)\n",
    "        nn.init.normal_(self.coords.weight, mean=0, std=1)\n",
    "\n",
    "    def forward(self, city1_id, city2_id):\n",
    "        # Euclidean distance\n",
    "        coords1 = self.coords(city1_id)\n",
    "        coords2 = self.coords(city2_id)\n",
    "        return torch.norm(coords1 - coords2, dim=1)"
   ]
  },
  {
   "cell_type": "code",
   "execution_count": null,
   "id": "78480387-862a-4b7f-9770-75aa565b9b15",
   "metadata": {
    "tags": []
   },
   "outputs": [],
   "source": [
    "model = GeoEmbedding(num_cities).to(device)"
   ]
  },
  {
   "cell_type": "code",
   "execution_count": null,
   "id": "1c65547f-441a-419d-8b8f-397a7afdfbab",
   "metadata": {
    "tags": []
   },
   "outputs": [],
   "source": [
    "criterion = nn.MSELoss()\n",
    "optimizer = optim.Adam(model.parameters(), lr=0.01)"
   ]
  },
  {
   "cell_type": "code",
   "execution_count": null,
   "id": "5d387c69-a286-47d3-a409-22b7cdf457da",
   "metadata": {
    "tags": []
   },
   "outputs": [],
   "source": [
    "NUM_EPOCHS = 100"
   ]
  },
  {
   "cell_type": "code",
   "execution_count": null,
   "id": "ee9f863d-e6e4-4c0c-aa11-68476ab95e60",
   "metadata": {
    "tags": []
   },
   "outputs": [],
   "source": [
    "for epoch in range(NUM_EPOCHS):\n",
    "    total_loss = 0.0\n",
    "    for city1_batch, city2_batch, distance_batch in dataloader:\n",
    "        city1_batch = city1_batch.to(device)\n",
    "        city2_batch = city2_batch.to(device)\n",
    "        distance_batch = distance_batch.to(device)\n",
    "        optimizer.zero_grad()\n",
    "        predicted_distances = model(city1_batch, city2_batch)\n",
    "        loss = criterion(predicted_distances, distance_batch)\n",
    "        loss.backward()\n",
    "        optimizer.step()\n",
    "        total_loss += loss.item()\n",
    "\n",
    "    if (epoch + 1) % 10 == 0 or epoch == 0:\n",
    "        print(f\"Epoch {epoch+1}/{NUM_EPOCHS}, Loss: {total_loss / len(dataloader):.8f}\")"
   ]
  },
  {
   "cell_type": "markdown",
   "id": "2f872285-41ab-40ab-81eb-cdedcbbea96c",
   "metadata": {},
   "source": [
    "# Results"
   ]
  },
  {
   "cell_type": "code",
   "execution_count": null,
   "id": "561a78fb-4b26-4ad0-a303-e6278aef05b1",
   "metadata": {
    "tags": []
   },
   "outputs": [],
   "source": [
    "embeddings = model.coords.weight.detach().cpu().numpy()"
   ]
  },
  {
   "cell_type": "code",
   "execution_count": null,
   "id": "0fba9f3a-16d9-4f80-8286-aa628e4fb0fe",
   "metadata": {
    "tags": []
   },
   "outputs": [],
   "source": [
    "x = embeddings[:, 0]\n",
    "y = embeddings[:, 1]\n",
    "\n",
    "x = inverse(x, minimum=minimum, maximum=maximum) # in km\n",
    "y = inverse(y, minimum=minimum, maximum=maximum) # in km"
   ]
  },
  {
   "cell_type": "code",
   "execution_count": null,
   "id": "bf283ff5-9b3c-4554-874b-d946858edf42",
   "metadata": {},
   "outputs": [],
   "source": [
    "plt.figure(figsize=(10, 8))\n",
    "plt.scatter(x, y)\n",
    "plt.show()"
   ]
  }
 ],
 "metadata": {
  "environment": {
   "kernel": "myenv",
   "name": "tf2-cpu.2-11.m125",
   "type": "gcloud",
   "uri": "us-docker.pkg.dev/deeplearning-platform-release/gcr.io/tf2-cpu.2-11:m125"
  },
  "kernelspec": {
   "display_name": "Python (occupation) (Local)",
   "language": "python",
   "name": "myenv"
  },
  "language_info": {
   "codemirror_mode": {
    "name": "ipython",
    "version": 3
   },
   "file_extension": ".py",
   "mimetype": "text/x-python",
   "name": "python",
   "nbconvert_exporter": "python",
   "pygments_lexer": "ipython3",
   "version": "3.10.15"
  }
 },
 "nbformat": 4,
 "nbformat_minor": 5
}
